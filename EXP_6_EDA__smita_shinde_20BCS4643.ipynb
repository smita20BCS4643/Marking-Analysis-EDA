{
  "cells": [
    {
      "cell_type": "markdown",
      "metadata": {
        "id": "9XjYMgJneeJC"
      },
      "source": [
        "## **Experiments No. 6**"
      ]
    },
    {
      "cell_type": "code",
      "execution_count": 1,
      "metadata": {
        "colab": {
          "base_uri": "https://localhost:8080/"
        },
        "id": "zgq2F3Q6e8RY",
        "outputId": "1bb2bcd3-8a34-45f4-cd14-d77ff12355a2"
      },
      "outputs": [
        {
          "name": "stdout",
          "output_type": "stream",
          "text": [
            "\n",
            "\n",
            "Experiment No. 6\n",
            " smita shinde \n",
            " UID = 20BCS4643 \n",
            " Class BIT_B\n"
          ]
        }
      ],
      "source": [
        "\n",
        "print(\"\\n\\nExperiment No. 6\\n smita shinde \\n UID = 20BCS4643 \\n Class BIT_B\")\n"
      ]
    },
    {
      "cell_type": "code",
      "execution_count": 10,
      "metadata": {
        "id": "GTR-o8WmuW2j"
      },
      "outputs": [],
      "source": [
        "#Import Libraries\n",
        "import numpy as np\n",
        "import pandas as pd\n",
        "import matplotlib.pylab as plt\n",
        "import seaborn as sns #Understanding my variables\n"
      ]
    },
    {
      "cell_type": "code",
      "execution_count": 11,
      "metadata": {
        "colab": {
          "base_uri": "https://localhost:8080/"
        },
        "id": "TXRDQCyYxl8z",
        "outputId": "3fa3f415-3fac-44b9-82ca-67980b4dd566"
      },
      "outputs": [
        {
          "name": "stderr",
          "output_type": "stream",
          "text": [
            "C:\\Users\\smita\\AppData\\Local\\Temp\\ipykernel_27352\\15434772.py:1: DtypeWarning: Columns (0,1,2,3,11,14,15,16) have mixed types. Specify dtype option on import or set low_memory=False.\n",
            "  df=pd.read_csv(\"Marketing_analysis.txt\")\n"
          ]
        }
      ],
      "source": [
        "df=pd.read_csv(\"Marketing_analysis.txt\")"
      ]
    },
    {
      "cell_type": "code",
      "execution_count": 12,
      "metadata": {
        "id": "_I4TKx6CzjAz"
      },
      "outputs": [],
      "source": [
        "df.to_csv('Marketing_analysis.csv')"
      ]
    },
    {
      "cell_type": "code",
      "execution_count": 13,
      "metadata": {
        "colab": {
          "base_uri": "https://localhost:8080/",
          "height": 644
        },
        "id": "pMVxz3k9ztzO",
        "outputId": "d8564135-956c-4255-b67c-303660373499"
      },
      "outputs": [
        {
          "data": {
            "text/html": [
              "<div>\n",
              "<style scoped>\n",
              "    .dataframe tbody tr th:only-of-type {\n",
              "        vertical-align: middle;\n",
              "    }\n",
              "\n",
              "    .dataframe tbody tr th {\n",
              "        vertical-align: top;\n",
              "    }\n",
              "\n",
              "    .dataframe thead th {\n",
              "        text-align: right;\n",
              "    }\n",
              "</style>\n",
              "<table border=\"1\" class=\"dataframe\">\n",
              "  <thead>\n",
              "    <tr style=\"text-align: right;\">\n",
              "      <th></th>\n",
              "      <th>banking marketing</th>\n",
              "      <th>Unnamed: 1</th>\n",
              "      <th>Unnamed: 2</th>\n",
              "      <th>Unnamed: 3</th>\n",
              "      <th>Unnamed: 4</th>\n",
              "      <th>Unnamed: 5</th>\n",
              "      <th>Unnamed: 6</th>\n",
              "      <th>Unnamed: 7</th>\n",
              "      <th>Unnamed: 8</th>\n",
              "      <th>Unnamed: 9</th>\n",
              "      <th>Unnamed: 10</th>\n",
              "      <th>Unnamed: 11</th>\n",
              "      <th>Unnamed: 12</th>\n",
              "      <th>Unnamed: 13</th>\n",
              "      <th>Unnamed: 14</th>\n",
              "      <th>Unnamed: 15</th>\n",
              "      <th>Unnamed: 16</th>\n",
              "      <th>Unnamed: 17</th>\n",
              "      <th>Unnamed: 18</th>\n",
              "    </tr>\n",
              "  </thead>\n",
              "  <tbody>\n",
              "    <tr>\n",
              "      <th>0</th>\n",
              "      <td>customer id and age.</td>\n",
              "      <td>NaN</td>\n",
              "      <td>Customer salary and balance.</td>\n",
              "      <td>NaN</td>\n",
              "      <td>Customer marital status and job with education...</td>\n",
              "      <td>NaN</td>\n",
              "      <td>particular customer before targeted or not</td>\n",
              "      <td>NaN</td>\n",
              "      <td>Loan types: loans or housing loans</td>\n",
              "      <td>NaN</td>\n",
              "      <td>Contact type</td>\n",
              "      <td>NaN</td>\n",
              "      <td>month of contact</td>\n",
              "      <td>duration of call</td>\n",
              "      <td>NaN</td>\n",
              "      <td>NaN</td>\n",
              "      <td>NaN</td>\n",
              "      <td>outcome of previous contact</td>\n",
              "      <td>response of customer after call happned</td>\n",
              "    </tr>\n",
              "    <tr>\n",
              "      <th>1</th>\n",
              "      <td>customerid</td>\n",
              "      <td>age</td>\n",
              "      <td>salary</td>\n",
              "      <td>balance</td>\n",
              "      <td>marital</td>\n",
              "      <td>jobedu</td>\n",
              "      <td>targeted</td>\n",
              "      <td>default</td>\n",
              "      <td>housing</td>\n",
              "      <td>loan</td>\n",
              "      <td>contact</td>\n",
              "      <td>day</td>\n",
              "      <td>month</td>\n",
              "      <td>duration</td>\n",
              "      <td>campaign</td>\n",
              "      <td>pdays</td>\n",
              "      <td>previous</td>\n",
              "      <td>poutcome</td>\n",
              "      <td>response</td>\n",
              "    </tr>\n",
              "    <tr>\n",
              "      <th>2</th>\n",
              "      <td>1</td>\n",
              "      <td>58</td>\n",
              "      <td>100000</td>\n",
              "      <td>2143</td>\n",
              "      <td>married</td>\n",
              "      <td>management,tertiary</td>\n",
              "      <td>yes</td>\n",
              "      <td>no</td>\n",
              "      <td>yes</td>\n",
              "      <td>no</td>\n",
              "      <td>unknown</td>\n",
              "      <td>5</td>\n",
              "      <td>may, 2017</td>\n",
              "      <td>261 sec</td>\n",
              "      <td>1</td>\n",
              "      <td>-1</td>\n",
              "      <td>0</td>\n",
              "      <td>unknown</td>\n",
              "      <td>no</td>\n",
              "    </tr>\n",
              "    <tr>\n",
              "      <th>3</th>\n",
              "      <td>2</td>\n",
              "      <td>44</td>\n",
              "      <td>60000</td>\n",
              "      <td>29</td>\n",
              "      <td>single</td>\n",
              "      <td>technician,secondary</td>\n",
              "      <td>yes</td>\n",
              "      <td>no</td>\n",
              "      <td>yes</td>\n",
              "      <td>no</td>\n",
              "      <td>unknown</td>\n",
              "      <td>5</td>\n",
              "      <td>may, 2017</td>\n",
              "      <td>151 sec</td>\n",
              "      <td>1</td>\n",
              "      <td>-1</td>\n",
              "      <td>0</td>\n",
              "      <td>unknown</td>\n",
              "      <td>no</td>\n",
              "    </tr>\n",
              "    <tr>\n",
              "      <th>4</th>\n",
              "      <td>3</td>\n",
              "      <td>33</td>\n",
              "      <td>120000</td>\n",
              "      <td>2</td>\n",
              "      <td>married</td>\n",
              "      <td>entrepreneur,secondary</td>\n",
              "      <td>yes</td>\n",
              "      <td>no</td>\n",
              "      <td>yes</td>\n",
              "      <td>yes</td>\n",
              "      <td>unknown</td>\n",
              "      <td>5</td>\n",
              "      <td>may, 2017</td>\n",
              "      <td>76 sec</td>\n",
              "      <td>1</td>\n",
              "      <td>-1</td>\n",
              "      <td>0</td>\n",
              "      <td>unknown</td>\n",
              "      <td>no</td>\n",
              "    </tr>\n",
              "    <tr>\n",
              "      <th>...</th>\n",
              "      <td>...</td>\n",
              "      <td>...</td>\n",
              "      <td>...</td>\n",
              "      <td>...</td>\n",
              "      <td>...</td>\n",
              "      <td>...</td>\n",
              "      <td>...</td>\n",
              "      <td>...</td>\n",
              "      <td>...</td>\n",
              "      <td>...</td>\n",
              "      <td>...</td>\n",
              "      <td>...</td>\n",
              "      <td>...</td>\n",
              "      <td>...</td>\n",
              "      <td>...</td>\n",
              "      <td>...</td>\n",
              "      <td>...</td>\n",
              "      <td>...</td>\n",
              "      <td>...</td>\n",
              "    </tr>\n",
              "    <tr>\n",
              "      <th>45208</th>\n",
              "      <td>45207</td>\n",
              "      <td>51.0</td>\n",
              "      <td>60000</td>\n",
              "      <td>825</td>\n",
              "      <td>married</td>\n",
              "      <td>technician,tertiary</td>\n",
              "      <td>yes</td>\n",
              "      <td>no</td>\n",
              "      <td>no</td>\n",
              "      <td>no</td>\n",
              "      <td>cellular</td>\n",
              "      <td>17</td>\n",
              "      <td>nov, 2017</td>\n",
              "      <td>16.2833333333333 min</td>\n",
              "      <td>3</td>\n",
              "      <td>-1</td>\n",
              "      <td>0</td>\n",
              "      <td>unknown</td>\n",
              "      <td>yes</td>\n",
              "    </tr>\n",
              "    <tr>\n",
              "      <th>45209</th>\n",
              "      <td>45208</td>\n",
              "      <td>71.0</td>\n",
              "      <td>55000</td>\n",
              "      <td>1729</td>\n",
              "      <td>divorced</td>\n",
              "      <td>retired,primary</td>\n",
              "      <td>yes</td>\n",
              "      <td>no</td>\n",
              "      <td>no</td>\n",
              "      <td>no</td>\n",
              "      <td>cellular</td>\n",
              "      <td>17</td>\n",
              "      <td>nov, 2017</td>\n",
              "      <td>7.6 min</td>\n",
              "      <td>2</td>\n",
              "      <td>-1</td>\n",
              "      <td>0</td>\n",
              "      <td>unknown</td>\n",
              "      <td>yes</td>\n",
              "    </tr>\n",
              "    <tr>\n",
              "      <th>45210</th>\n",
              "      <td>45209</td>\n",
              "      <td>72.0</td>\n",
              "      <td>55000</td>\n",
              "      <td>5715</td>\n",
              "      <td>married</td>\n",
              "      <td>retired,secondary</td>\n",
              "      <td>yes</td>\n",
              "      <td>no</td>\n",
              "      <td>no</td>\n",
              "      <td>no</td>\n",
              "      <td>cellular</td>\n",
              "      <td>17</td>\n",
              "      <td>nov, 2017</td>\n",
              "      <td>18.7833333333333 min</td>\n",
              "      <td>5</td>\n",
              "      <td>184</td>\n",
              "      <td>3</td>\n",
              "      <td>success</td>\n",
              "      <td>yes</td>\n",
              "    </tr>\n",
              "    <tr>\n",
              "      <th>45211</th>\n",
              "      <td>45210</td>\n",
              "      <td>57.0</td>\n",
              "      <td>20000</td>\n",
              "      <td>668</td>\n",
              "      <td>married</td>\n",
              "      <td>blue-collar,secondary</td>\n",
              "      <td>yes</td>\n",
              "      <td>no</td>\n",
              "      <td>no</td>\n",
              "      <td>no</td>\n",
              "      <td>telephone</td>\n",
              "      <td>17</td>\n",
              "      <td>nov, 2017</td>\n",
              "      <td>8.46666666666667 min</td>\n",
              "      <td>4</td>\n",
              "      <td>-1</td>\n",
              "      <td>0</td>\n",
              "      <td>unknown</td>\n",
              "      <td>no</td>\n",
              "    </tr>\n",
              "    <tr>\n",
              "      <th>45212</th>\n",
              "      <td>45211</td>\n",
              "      <td>37.0</td>\n",
              "      <td>120000</td>\n",
              "      <td>2971</td>\n",
              "      <td>married</td>\n",
              "      <td>entrepreneur,secondary</td>\n",
              "      <td>yes</td>\n",
              "      <td>no</td>\n",
              "      <td>no</td>\n",
              "      <td>no</td>\n",
              "      <td>cellular</td>\n",
              "      <td>17</td>\n",
              "      <td>nov, 2017</td>\n",
              "      <td>6.01666666666667 min</td>\n",
              "      <td>2</td>\n",
              "      <td>188</td>\n",
              "      <td>11</td>\n",
              "      <td>other</td>\n",
              "      <td>no</td>\n",
              "    </tr>\n",
              "  </tbody>\n",
              "</table>\n",
              "<p>45213 rows × 19 columns</p>\n",
              "</div>"
            ],
            "text/plain": [
              "          banking marketing Unnamed: 1                    Unnamed: 2  \\\n",
              "0      customer id and age.        NaN  Customer salary and balance.   \n",
              "1                customerid        age                        salary   \n",
              "2                         1         58                        100000   \n",
              "3                         2         44                         60000   \n",
              "4                         3         33                        120000   \n",
              "...                     ...        ...                           ...   \n",
              "45208                 45207       51.0                         60000   \n",
              "45209                 45208       71.0                         55000   \n",
              "45210                 45209       72.0                         55000   \n",
              "45211                 45210       57.0                         20000   \n",
              "45212                 45211       37.0                        120000   \n",
              "\n",
              "      Unnamed: 3                                         Unnamed: 4  \\\n",
              "0            NaN  Customer marital status and job with education...   \n",
              "1        balance                                            marital   \n",
              "2           2143                                            married   \n",
              "3             29                                             single   \n",
              "4              2                                            married   \n",
              "...          ...                                                ...   \n",
              "45208        825                                            married   \n",
              "45209       1729                                           divorced   \n",
              "45210       5715                                            married   \n",
              "45211        668                                            married   \n",
              "45212       2971                                            married   \n",
              "\n",
              "                   Unnamed: 5                                  Unnamed: 6  \\\n",
              "0                         NaN  particular customer before targeted or not   \n",
              "1                      jobedu                                    targeted   \n",
              "2         management,tertiary                                         yes   \n",
              "3        technician,secondary                                         yes   \n",
              "4      entrepreneur,secondary                                         yes   \n",
              "...                       ...                                         ...   \n",
              "45208     technician,tertiary                                         yes   \n",
              "45209         retired,primary                                         yes   \n",
              "45210       retired,secondary                                         yes   \n",
              "45211   blue-collar,secondary                                         yes   \n",
              "45212  entrepreneur,secondary                                         yes   \n",
              "\n",
              "      Unnamed: 7                          Unnamed: 8 Unnamed: 9   Unnamed: 10  \\\n",
              "0            NaN  Loan types: loans or housing loans        NaN  Contact type   \n",
              "1        default                             housing       loan       contact   \n",
              "2             no                                 yes         no       unknown   \n",
              "3             no                                 yes         no       unknown   \n",
              "4             no                                 yes        yes       unknown   \n",
              "...          ...                                 ...        ...           ...   \n",
              "45208         no                                  no         no      cellular   \n",
              "45209         no                                  no         no      cellular   \n",
              "45210         no                                  no         no      cellular   \n",
              "45211         no                                  no         no     telephone   \n",
              "45212         no                                  no         no      cellular   \n",
              "\n",
              "      Unnamed: 11       Unnamed: 12           Unnamed: 13 Unnamed: 14  \\\n",
              "0             NaN  month of contact      duration of call         NaN   \n",
              "1             day             month              duration    campaign   \n",
              "2               5         may, 2017               261 sec           1   \n",
              "3               5         may, 2017               151 sec           1   \n",
              "4               5         may, 2017                76 sec           1   \n",
              "...           ...               ...                   ...         ...   \n",
              "45208          17         nov, 2017  16.2833333333333 min           3   \n",
              "45209          17         nov, 2017               7.6 min           2   \n",
              "45210          17         nov, 2017  18.7833333333333 min           5   \n",
              "45211          17         nov, 2017  8.46666666666667 min           4   \n",
              "45212          17         nov, 2017  6.01666666666667 min           2   \n",
              "\n",
              "      Unnamed: 15 Unnamed: 16                  Unnamed: 17  \\\n",
              "0             NaN         NaN  outcome of previous contact   \n",
              "1           pdays    previous                     poutcome   \n",
              "2              -1           0                      unknown   \n",
              "3              -1           0                      unknown   \n",
              "4              -1           0                      unknown   \n",
              "...           ...         ...                          ...   \n",
              "45208          -1           0                      unknown   \n",
              "45209          -1           0                      unknown   \n",
              "45210         184           3                      success   \n",
              "45211          -1           0                      unknown   \n",
              "45212         188          11                        other   \n",
              "\n",
              "                                   Unnamed: 18  \n",
              "0      response of customer after call happned  \n",
              "1                                     response  \n",
              "2                                           no  \n",
              "3                                           no  \n",
              "4                                           no  \n",
              "...                                        ...  \n",
              "45208                                      yes  \n",
              "45209                                      yes  \n",
              "45210                                      yes  \n",
              "45211                                       no  \n",
              "45212                                       no  \n",
              "\n",
              "[45213 rows x 19 columns]"
            ]
          },
          "execution_count": 13,
          "metadata": {},
          "output_type": "execute_result"
        }
      ],
      "source": [
        "df"
      ]
    },
    {
      "cell_type": "code",
      "execution_count": 14,
      "metadata": {
        "id": "m3LuGJsp0A4w"
      },
      "outputs": [],
      "source": [
        "# If we observe the above dataset, there are some discrepancies in the Column header for the first 2 rows. \n",
        "#The correct data is from the index number 1. So, we have to fix the first two rows."
      ]
    },
    {
      "cell_type": "code",
      "execution_count": 15,
      "metadata": {
        "colab": {
          "base_uri": "https://localhost:8080/",
          "height": 357
        },
        "id": "8lkhazTa0Vdm",
        "outputId": "de097926-6ba0-4adc-85a4-53dbb30f071e"
      },
      "outputs": [
        {
          "data": {
            "text/html": [
              "<div>\n",
              "<style scoped>\n",
              "    .dataframe tbody tr th:only-of-type {\n",
              "        vertical-align: middle;\n",
              "    }\n",
              "\n",
              "    .dataframe tbody tr th {\n",
              "        vertical-align: top;\n",
              "    }\n",
              "\n",
              "    .dataframe thead th {\n",
              "        text-align: right;\n",
              "    }\n",
              "</style>\n",
              "<table border=\"1\" class=\"dataframe\">\n",
              "  <thead>\n",
              "    <tr style=\"text-align: right;\">\n",
              "      <th></th>\n",
              "      <th>1</th>\n",
              "      <th>customerid</th>\n",
              "      <th>age</th>\n",
              "      <th>salary</th>\n",
              "      <th>balance</th>\n",
              "      <th>marital</th>\n",
              "      <th>jobedu</th>\n",
              "      <th>targeted</th>\n",
              "      <th>default</th>\n",
              "      <th>housing</th>\n",
              "      <th>loan</th>\n",
              "      <th>contact</th>\n",
              "      <th>day</th>\n",
              "      <th>month</th>\n",
              "      <th>duration</th>\n",
              "      <th>campaign</th>\n",
              "      <th>pdays</th>\n",
              "      <th>previous</th>\n",
              "      <th>poutcome</th>\n",
              "      <th>response</th>\n",
              "    </tr>\n",
              "  </thead>\n",
              "  <tbody>\n",
              "    <tr>\n",
              "      <th>0</th>\n",
              "      <td>2</td>\n",
              "      <td>1</td>\n",
              "      <td>58.0</td>\n",
              "      <td>100000</td>\n",
              "      <td>2143</td>\n",
              "      <td>married</td>\n",
              "      <td>management,tertiary</td>\n",
              "      <td>yes</td>\n",
              "      <td>no</td>\n",
              "      <td>yes</td>\n",
              "      <td>no</td>\n",
              "      <td>unknown</td>\n",
              "      <td>5</td>\n",
              "      <td>may, 2017</td>\n",
              "      <td>261 sec</td>\n",
              "      <td>1</td>\n",
              "      <td>-1</td>\n",
              "      <td>0</td>\n",
              "      <td>unknown</td>\n",
              "      <td>no</td>\n",
              "    </tr>\n",
              "    <tr>\n",
              "      <th>1</th>\n",
              "      <td>3</td>\n",
              "      <td>2</td>\n",
              "      <td>44.0</td>\n",
              "      <td>60000</td>\n",
              "      <td>29</td>\n",
              "      <td>single</td>\n",
              "      <td>technician,secondary</td>\n",
              "      <td>yes</td>\n",
              "      <td>no</td>\n",
              "      <td>yes</td>\n",
              "      <td>no</td>\n",
              "      <td>unknown</td>\n",
              "      <td>5</td>\n",
              "      <td>may, 2017</td>\n",
              "      <td>151 sec</td>\n",
              "      <td>1</td>\n",
              "      <td>-1</td>\n",
              "      <td>0</td>\n",
              "      <td>unknown</td>\n",
              "      <td>no</td>\n",
              "    </tr>\n",
              "    <tr>\n",
              "      <th>2</th>\n",
              "      <td>4</td>\n",
              "      <td>3</td>\n",
              "      <td>33.0</td>\n",
              "      <td>120000</td>\n",
              "      <td>2</td>\n",
              "      <td>married</td>\n",
              "      <td>entrepreneur,secondary</td>\n",
              "      <td>yes</td>\n",
              "      <td>no</td>\n",
              "      <td>yes</td>\n",
              "      <td>yes</td>\n",
              "      <td>unknown</td>\n",
              "      <td>5</td>\n",
              "      <td>may, 2017</td>\n",
              "      <td>76 sec</td>\n",
              "      <td>1</td>\n",
              "      <td>-1</td>\n",
              "      <td>0</td>\n",
              "      <td>unknown</td>\n",
              "      <td>no</td>\n",
              "    </tr>\n",
              "    <tr>\n",
              "      <th>3</th>\n",
              "      <td>5</td>\n",
              "      <td>4</td>\n",
              "      <td>47.0</td>\n",
              "      <td>20000</td>\n",
              "      <td>1506</td>\n",
              "      <td>married</td>\n",
              "      <td>blue-collar,unknown</td>\n",
              "      <td>no</td>\n",
              "      <td>no</td>\n",
              "      <td>yes</td>\n",
              "      <td>no</td>\n",
              "      <td>unknown</td>\n",
              "      <td>5</td>\n",
              "      <td>may, 2017</td>\n",
              "      <td>92 sec</td>\n",
              "      <td>1</td>\n",
              "      <td>-1</td>\n",
              "      <td>0</td>\n",
              "      <td>unknown</td>\n",
              "      <td>no</td>\n",
              "    </tr>\n",
              "    <tr>\n",
              "      <th>4</th>\n",
              "      <td>6</td>\n",
              "      <td>5</td>\n",
              "      <td>33.0</td>\n",
              "      <td>0</td>\n",
              "      <td>1</td>\n",
              "      <td>single</td>\n",
              "      <td>unknown,unknown</td>\n",
              "      <td>no</td>\n",
              "      <td>no</td>\n",
              "      <td>no</td>\n",
              "      <td>no</td>\n",
              "      <td>unknown</td>\n",
              "      <td>5</td>\n",
              "      <td>may, 2017</td>\n",
              "      <td>198 sec</td>\n",
              "      <td>1</td>\n",
              "      <td>-1</td>\n",
              "      <td>0</td>\n",
              "      <td>unknown</td>\n",
              "      <td>no</td>\n",
              "    </tr>\n",
              "  </tbody>\n",
              "</table>\n",
              "</div>"
            ],
            "text/plain": [
              "   1  customerid   age  salary  balance  marital                  jobedu  \\\n",
              "0  2           1  58.0  100000     2143  married     management,tertiary   \n",
              "1  3           2  44.0   60000       29   single    technician,secondary   \n",
              "2  4           3  33.0  120000        2  married  entrepreneur,secondary   \n",
              "3  5           4  47.0   20000     1506  married     blue-collar,unknown   \n",
              "4  6           5  33.0       0        1   single         unknown,unknown   \n",
              "\n",
              "  targeted default housing loan  contact  day      month duration  campaign  \\\n",
              "0      yes      no     yes   no  unknown    5  may, 2017  261 sec         1   \n",
              "1      yes      no     yes   no  unknown    5  may, 2017  151 sec         1   \n",
              "2      yes      no     yes  yes  unknown    5  may, 2017   76 sec         1   \n",
              "3       no      no     yes   no  unknown    5  may, 2017   92 sec         1   \n",
              "4       no      no      no   no  unknown    5  may, 2017  198 sec         1   \n",
              "\n",
              "   pdays  previous poutcome response  \n",
              "0     -1         0  unknown       no  \n",
              "1     -1         0  unknown       no  \n",
              "2     -1         0  unknown       no  \n",
              "3     -1         0  unknown       no  \n",
              "4     -1         0  unknown       no  "
            ]
          },
          "execution_count": 15,
          "metadata": {},
          "output_type": "execute_result"
        }
      ],
      "source": [
        "# Read the file in data without first two rows as it is of no use.\n",
        "data = pd.read_csv(\"Marketing_analysis.csv\",skiprows = 2)\n",
        "\n",
        "#print the head of the data frame.\n",
        "data.head()"
      ]
    },
    {
      "cell_type": "code",
      "execution_count": 16,
      "metadata": {
        "id": "tDRm_BI_0_IZ"
      },
      "outputs": [],
      "source": [
        "# Now if we observe the above dataset, the customerid column has of no importance to our analysis, \n",
        "#and also the jobedu column has both the information of job and education in it.\n",
        "#\n",
        "# we’ll drop the customerid column and we’ll split the jobedu column into two other columns job and education and after that, we’ll drop the jobedu column as well."
      ]
    },
    {
      "cell_type": "code",
      "execution_count": 17,
      "metadata": {
        "colab": {
          "base_uri": "https://localhost:8080/",
          "height": 661
        },
        "id": "eFXbLxKP1RQt",
        "outputId": "a0da1b51-eacb-44fd-a849-c7e34f4863d0"
      },
      "outputs": [
        {
          "data": {
            "text/html": [
              "<div>\n",
              "<style scoped>\n",
              "    .dataframe tbody tr th:only-of-type {\n",
              "        vertical-align: middle;\n",
              "    }\n",
              "\n",
              "    .dataframe tbody tr th {\n",
              "        vertical-align: top;\n",
              "    }\n",
              "\n",
              "    .dataframe thead th {\n",
              "        text-align: right;\n",
              "    }\n",
              "</style>\n",
              "<table border=\"1\" class=\"dataframe\">\n",
              "  <thead>\n",
              "    <tr style=\"text-align: right;\">\n",
              "      <th></th>\n",
              "      <th>1</th>\n",
              "      <th>age</th>\n",
              "      <th>salary</th>\n",
              "      <th>balance</th>\n",
              "      <th>marital</th>\n",
              "      <th>targeted</th>\n",
              "      <th>default</th>\n",
              "      <th>housing</th>\n",
              "      <th>loan</th>\n",
              "      <th>contact</th>\n",
              "      <th>day</th>\n",
              "      <th>month</th>\n",
              "      <th>duration</th>\n",
              "      <th>campaign</th>\n",
              "      <th>pdays</th>\n",
              "      <th>previous</th>\n",
              "      <th>poutcome</th>\n",
              "      <th>response</th>\n",
              "      <th>job</th>\n",
              "      <th>education</th>\n",
              "    </tr>\n",
              "  </thead>\n",
              "  <tbody>\n",
              "    <tr>\n",
              "      <th>0</th>\n",
              "      <td>2</td>\n",
              "      <td>58.0</td>\n",
              "      <td>100000</td>\n",
              "      <td>2143</td>\n",
              "      <td>married</td>\n",
              "      <td>yes</td>\n",
              "      <td>no</td>\n",
              "      <td>yes</td>\n",
              "      <td>no</td>\n",
              "      <td>unknown</td>\n",
              "      <td>5</td>\n",
              "      <td>may, 2017</td>\n",
              "      <td>261 sec</td>\n",
              "      <td>1</td>\n",
              "      <td>-1</td>\n",
              "      <td>0</td>\n",
              "      <td>unknown</td>\n",
              "      <td>no</td>\n",
              "      <td>management</td>\n",
              "      <td>tertiary</td>\n",
              "    </tr>\n",
              "    <tr>\n",
              "      <th>1</th>\n",
              "      <td>3</td>\n",
              "      <td>44.0</td>\n",
              "      <td>60000</td>\n",
              "      <td>29</td>\n",
              "      <td>single</td>\n",
              "      <td>yes</td>\n",
              "      <td>no</td>\n",
              "      <td>yes</td>\n",
              "      <td>no</td>\n",
              "      <td>unknown</td>\n",
              "      <td>5</td>\n",
              "      <td>may, 2017</td>\n",
              "      <td>151 sec</td>\n",
              "      <td>1</td>\n",
              "      <td>-1</td>\n",
              "      <td>0</td>\n",
              "      <td>unknown</td>\n",
              "      <td>no</td>\n",
              "      <td>technician</td>\n",
              "      <td>secondary</td>\n",
              "    </tr>\n",
              "    <tr>\n",
              "      <th>2</th>\n",
              "      <td>4</td>\n",
              "      <td>33.0</td>\n",
              "      <td>120000</td>\n",
              "      <td>2</td>\n",
              "      <td>married</td>\n",
              "      <td>yes</td>\n",
              "      <td>no</td>\n",
              "      <td>yes</td>\n",
              "      <td>yes</td>\n",
              "      <td>unknown</td>\n",
              "      <td>5</td>\n",
              "      <td>may, 2017</td>\n",
              "      <td>76 sec</td>\n",
              "      <td>1</td>\n",
              "      <td>-1</td>\n",
              "      <td>0</td>\n",
              "      <td>unknown</td>\n",
              "      <td>no</td>\n",
              "      <td>entrepreneur</td>\n",
              "      <td>secondary</td>\n",
              "    </tr>\n",
              "    <tr>\n",
              "      <th>3</th>\n",
              "      <td>5</td>\n",
              "      <td>47.0</td>\n",
              "      <td>20000</td>\n",
              "      <td>1506</td>\n",
              "      <td>married</td>\n",
              "      <td>no</td>\n",
              "      <td>no</td>\n",
              "      <td>yes</td>\n",
              "      <td>no</td>\n",
              "      <td>unknown</td>\n",
              "      <td>5</td>\n",
              "      <td>may, 2017</td>\n",
              "      <td>92 sec</td>\n",
              "      <td>1</td>\n",
              "      <td>-1</td>\n",
              "      <td>0</td>\n",
              "      <td>unknown</td>\n",
              "      <td>no</td>\n",
              "      <td>blue-collar</td>\n",
              "      <td>unknown</td>\n",
              "    </tr>\n",
              "    <tr>\n",
              "      <th>4</th>\n",
              "      <td>6</td>\n",
              "      <td>33.0</td>\n",
              "      <td>0</td>\n",
              "      <td>1</td>\n",
              "      <td>single</td>\n",
              "      <td>no</td>\n",
              "      <td>no</td>\n",
              "      <td>no</td>\n",
              "      <td>no</td>\n",
              "      <td>unknown</td>\n",
              "      <td>5</td>\n",
              "      <td>may, 2017</td>\n",
              "      <td>198 sec</td>\n",
              "      <td>1</td>\n",
              "      <td>-1</td>\n",
              "      <td>0</td>\n",
              "      <td>unknown</td>\n",
              "      <td>no</td>\n",
              "      <td>unknown</td>\n",
              "      <td>unknown</td>\n",
              "    </tr>\n",
              "    <tr>\n",
              "      <th>...</th>\n",
              "      <td>...</td>\n",
              "      <td>...</td>\n",
              "      <td>...</td>\n",
              "      <td>...</td>\n",
              "      <td>...</td>\n",
              "      <td>...</td>\n",
              "      <td>...</td>\n",
              "      <td>...</td>\n",
              "      <td>...</td>\n",
              "      <td>...</td>\n",
              "      <td>...</td>\n",
              "      <td>...</td>\n",
              "      <td>...</td>\n",
              "      <td>...</td>\n",
              "      <td>...</td>\n",
              "      <td>...</td>\n",
              "      <td>...</td>\n",
              "      <td>...</td>\n",
              "      <td>...</td>\n",
              "      <td>...</td>\n",
              "    </tr>\n",
              "    <tr>\n",
              "      <th>45206</th>\n",
              "      <td>45208</td>\n",
              "      <td>51.0</td>\n",
              "      <td>60000</td>\n",
              "      <td>825</td>\n",
              "      <td>married</td>\n",
              "      <td>yes</td>\n",
              "      <td>no</td>\n",
              "      <td>no</td>\n",
              "      <td>no</td>\n",
              "      <td>cellular</td>\n",
              "      <td>17</td>\n",
              "      <td>nov, 2017</td>\n",
              "      <td>16.2833333333333 min</td>\n",
              "      <td>3</td>\n",
              "      <td>-1</td>\n",
              "      <td>0</td>\n",
              "      <td>unknown</td>\n",
              "      <td>yes</td>\n",
              "      <td>technician</td>\n",
              "      <td>tertiary</td>\n",
              "    </tr>\n",
              "    <tr>\n",
              "      <th>45207</th>\n",
              "      <td>45209</td>\n",
              "      <td>71.0</td>\n",
              "      <td>55000</td>\n",
              "      <td>1729</td>\n",
              "      <td>divorced</td>\n",
              "      <td>yes</td>\n",
              "      <td>no</td>\n",
              "      <td>no</td>\n",
              "      <td>no</td>\n",
              "      <td>cellular</td>\n",
              "      <td>17</td>\n",
              "      <td>nov, 2017</td>\n",
              "      <td>7.6 min</td>\n",
              "      <td>2</td>\n",
              "      <td>-1</td>\n",
              "      <td>0</td>\n",
              "      <td>unknown</td>\n",
              "      <td>yes</td>\n",
              "      <td>retired</td>\n",
              "      <td>primary</td>\n",
              "    </tr>\n",
              "    <tr>\n",
              "      <th>45208</th>\n",
              "      <td>45210</td>\n",
              "      <td>72.0</td>\n",
              "      <td>55000</td>\n",
              "      <td>5715</td>\n",
              "      <td>married</td>\n",
              "      <td>yes</td>\n",
              "      <td>no</td>\n",
              "      <td>no</td>\n",
              "      <td>no</td>\n",
              "      <td>cellular</td>\n",
              "      <td>17</td>\n",
              "      <td>nov, 2017</td>\n",
              "      <td>18.7833333333333 min</td>\n",
              "      <td>5</td>\n",
              "      <td>184</td>\n",
              "      <td>3</td>\n",
              "      <td>success</td>\n",
              "      <td>yes</td>\n",
              "      <td>retired</td>\n",
              "      <td>secondary</td>\n",
              "    </tr>\n",
              "    <tr>\n",
              "      <th>45209</th>\n",
              "      <td>45211</td>\n",
              "      <td>57.0</td>\n",
              "      <td>20000</td>\n",
              "      <td>668</td>\n",
              "      <td>married</td>\n",
              "      <td>yes</td>\n",
              "      <td>no</td>\n",
              "      <td>no</td>\n",
              "      <td>no</td>\n",
              "      <td>telephone</td>\n",
              "      <td>17</td>\n",
              "      <td>nov, 2017</td>\n",
              "      <td>8.46666666666667 min</td>\n",
              "      <td>4</td>\n",
              "      <td>-1</td>\n",
              "      <td>0</td>\n",
              "      <td>unknown</td>\n",
              "      <td>no</td>\n",
              "      <td>blue-collar</td>\n",
              "      <td>secondary</td>\n",
              "    </tr>\n",
              "    <tr>\n",
              "      <th>45210</th>\n",
              "      <td>45212</td>\n",
              "      <td>37.0</td>\n",
              "      <td>120000</td>\n",
              "      <td>2971</td>\n",
              "      <td>married</td>\n",
              "      <td>yes</td>\n",
              "      <td>no</td>\n",
              "      <td>no</td>\n",
              "      <td>no</td>\n",
              "      <td>cellular</td>\n",
              "      <td>17</td>\n",
              "      <td>nov, 2017</td>\n",
              "      <td>6.01666666666667 min</td>\n",
              "      <td>2</td>\n",
              "      <td>188</td>\n",
              "      <td>11</td>\n",
              "      <td>other</td>\n",
              "      <td>no</td>\n",
              "      <td>entrepreneur</td>\n",
              "      <td>secondary</td>\n",
              "    </tr>\n",
              "  </tbody>\n",
              "</table>\n",
              "<p>45211 rows × 20 columns</p>\n",
              "</div>"
            ],
            "text/plain": [
              "           1   age  salary  balance   marital targeted default housing loan  \\\n",
              "0          2  58.0  100000     2143   married      yes      no     yes   no   \n",
              "1          3  44.0   60000       29    single      yes      no     yes   no   \n",
              "2          4  33.0  120000        2   married      yes      no     yes  yes   \n",
              "3          5  47.0   20000     1506   married       no      no     yes   no   \n",
              "4          6  33.0       0        1    single       no      no      no   no   \n",
              "...      ...   ...     ...      ...       ...      ...     ...     ...  ...   \n",
              "45206  45208  51.0   60000      825   married      yes      no      no   no   \n",
              "45207  45209  71.0   55000     1729  divorced      yes      no      no   no   \n",
              "45208  45210  72.0   55000     5715   married      yes      no      no   no   \n",
              "45209  45211  57.0   20000      668   married      yes      no      no   no   \n",
              "45210  45212  37.0  120000     2971   married      yes      no      no   no   \n",
              "\n",
              "         contact  day      month              duration  campaign  pdays  \\\n",
              "0        unknown    5  may, 2017               261 sec         1     -1   \n",
              "1        unknown    5  may, 2017               151 sec         1     -1   \n",
              "2        unknown    5  may, 2017                76 sec         1     -1   \n",
              "3        unknown    5  may, 2017                92 sec         1     -1   \n",
              "4        unknown    5  may, 2017               198 sec         1     -1   \n",
              "...          ...  ...        ...                   ...       ...    ...   \n",
              "45206   cellular   17  nov, 2017  16.2833333333333 min         3     -1   \n",
              "45207   cellular   17  nov, 2017               7.6 min         2     -1   \n",
              "45208   cellular   17  nov, 2017  18.7833333333333 min         5    184   \n",
              "45209  telephone   17  nov, 2017  8.46666666666667 min         4     -1   \n",
              "45210   cellular   17  nov, 2017  6.01666666666667 min         2    188   \n",
              "\n",
              "       previous poutcome response           job  education  \n",
              "0             0  unknown       no    management   tertiary  \n",
              "1             0  unknown       no    technician  secondary  \n",
              "2             0  unknown       no  entrepreneur  secondary  \n",
              "3             0  unknown       no   blue-collar    unknown  \n",
              "4             0  unknown       no       unknown    unknown  \n",
              "...         ...      ...      ...           ...        ...  \n",
              "45206         0  unknown      yes    technician   tertiary  \n",
              "45207         0  unknown      yes       retired    primary  \n",
              "45208         3  success      yes       retired  secondary  \n",
              "45209         0  unknown       no   blue-collar  secondary  \n",
              "45210        11    other       no  entrepreneur  secondary  \n",
              "\n",
              "[45211 rows x 20 columns]"
            ]
          },
          "execution_count": 17,
          "metadata": {},
          "output_type": "execute_result"
        }
      ],
      "source": [
        "# Drop the customer id as it is of no use.\n",
        "data.drop('customerid', axis = 1, inplace = True)\n",
        "\n",
        "#Extract job  & Education in newly from \"jobedu\" column.\n",
        "data['job']= data[\"jobedu\"].apply(lambda x: x.split(\",\")[0])\n",
        "data['education']= data[\"jobedu\"].apply(lambda x: x.split(\",\")[1])\n",
        "\n",
        "# Drop the \"jobedu\" column from the dataframe.\n",
        "data.drop('jobedu', axis = 1, inplace = True)\n",
        "\n",
        "# Printing the Dataset\n",
        "data"
      ]
    },
    {
      "cell_type": "code",
      "execution_count": 18,
      "metadata": {
        "colab": {
          "base_uri": "https://localhost:8080/"
        },
        "id": "YP2FXjxe1opb",
        "outputId": "28c65bdb-5d73-4c35-8496-36315a24880c"
      },
      "outputs": [
        {
          "data": {
            "text/plain": [
              "1             0\n",
              "age          20\n",
              "salary        0\n",
              "balance       0\n",
              "marital       0\n",
              "targeted      0\n",
              "default       0\n",
              "housing       0\n",
              "loan          0\n",
              "contact       0\n",
              "day           0\n",
              "month        50\n",
              "duration      0\n",
              "campaign      0\n",
              "pdays         0\n",
              "previous      0\n",
              "poutcome      0\n",
              "response     30\n",
              "job           0\n",
              "education     0\n",
              "dtype: int64"
            ]
          },
          "execution_count": 18,
          "metadata": {},
          "output_type": "execute_result"
        }
      ],
      "source": [
        "# Checking the missing values\n",
        "data.isnull().sum()"
      ]
    },
    {
      "cell_type": "code",
      "execution_count": 19,
      "metadata": {
        "id": "59HHjrMD2Fq2"
      },
      "outputs": [],
      "source": [
        "# Dropping the records with age missing in data dataframe.\n",
        "data = data[~data.age.isnull()].copy()"
      ]
    },
    {
      "cell_type": "code",
      "execution_count": 20,
      "metadata": {
        "colab": {
          "base_uri": "https://localhost:8080/"
        },
        "id": "DI3MzLiq2NXs",
        "outputId": "ce64f299-de37-4710-be21-191095c3a3f7"
      },
      "outputs": [
        {
          "data": {
            "text/plain": [
              "1             0\n",
              "age           0\n",
              "salary        0\n",
              "balance       0\n",
              "marital       0\n",
              "targeted      0\n",
              "default       0\n",
              "housing       0\n",
              "loan          0\n",
              "contact       0\n",
              "day           0\n",
              "month        50\n",
              "duration      0\n",
              "campaign      0\n",
              "pdays         0\n",
              "previous      0\n",
              "poutcome      0\n",
              "response     30\n",
              "job           0\n",
              "education     0\n",
              "dtype: int64"
            ]
          },
          "execution_count": 20,
          "metadata": {},
          "output_type": "execute_result"
        }
      ],
      "source": [
        "# Checking the missing values in the dataset.\n",
        "data.isnull().sum()"
      ]
    },
    {
      "cell_type": "code",
      "execution_count": 21,
      "metadata": {
        "colab": {
          "base_uri": "https://localhost:8080/"
        },
        "id": "OvC9jDgl2dTw",
        "outputId": "349ea136-65c7-4614-c9d0-0706c2fe1863"
      },
      "outputs": [
        {
          "data": {
            "text/plain": [
              "0"
            ]
          },
          "execution_count": 21,
          "metadata": {},
          "output_type": "execute_result"
        }
      ],
      "source": [
        "# Find the mode of month in data\n",
        "month_mode = data.month.mode()[0]\n",
        "\n",
        "# Fill the missing values with mode value of month in data.\n",
        "data.month.fillna(month_mode, inplace = True)\n",
        "\n",
        "# Let's see the null values in the month column.\n",
        "data.month.isnull().sum()"
      ]
    },
    {
      "cell_type": "code",
      "execution_count": 22,
      "metadata": {
        "colab": {
          "base_uri": "https://localhost:8080/"
        },
        "id": "TuVIASw_2jPP",
        "outputId": "c64ad293-1f61-4e96-f4be-44ca451324e1"
      },
      "outputs": [
        {
          "data": {
            "text/plain": [
              "1             0\n",
              "age           0\n",
              "salary        0\n",
              "balance       0\n",
              "marital       0\n",
              "targeted      0\n",
              "default       0\n",
              "housing       0\n",
              "loan          0\n",
              "contact       0\n",
              "day           0\n",
              "month         0\n",
              "duration      0\n",
              "campaign      0\n",
              "pdays         0\n",
              "previous      0\n",
              "poutcome      0\n",
              "response     30\n",
              "job           0\n",
              "education     0\n",
              "dtype: int64"
            ]
          },
          "execution_count": 22,
          "metadata": {},
          "output_type": "execute_result"
        }
      ],
      "source": [
        "data.isnull().sum()"
      ]
    },
    {
      "cell_type": "code",
      "execution_count": 23,
      "metadata": {
        "colab": {
          "base_uri": "https://localhost:8080/"
        },
        "id": "e57kgMLa2s4d",
        "outputId": "7cda7443-fc1c-454e-eb50-3d4ac2e6d780"
      },
      "outputs": [
        {
          "data": {
            "text/plain": [
              "1            0\n",
              "age          0\n",
              "salary       0\n",
              "balance      0\n",
              "marital      0\n",
              "targeted     0\n",
              "default      0\n",
              "housing      0\n",
              "loan         0\n",
              "contact      0\n",
              "day          0\n",
              "month        0\n",
              "duration     0\n",
              "campaign     0\n",
              "pdays        0\n",
              "previous     0\n",
              "poutcome     0\n",
              "response     0\n",
              "job          0\n",
              "education    0\n",
              "dtype: int64"
            ]
          },
          "execution_count": 23,
          "metadata": {},
          "output_type": "execute_result"
        }
      ],
      "source": [
        "#drop the records with response missing in data.\n",
        "data = data[~data.response.isnull()].copy()\n",
        "# Calculate the missing values in each column of data frame\n",
        "data.isnull().sum()"
      ]
    },
    {
      "cell_type": "code",
      "execution_count": 24,
      "metadata": {
        "colab": {
          "base_uri": "https://localhost:8080/"
        },
        "id": "vDItzS7F2vtH",
        "outputId": "1c5b05cb-92ae-481c-85c4-35a570319636"
      },
      "outputs": [
        {
          "data": {
            "text/plain": [
              "blue-collar      0.215274\n",
              "management       0.209273\n",
              "technician       0.168043\n",
              "admin.           0.114369\n",
              "services         0.091849\n",
              "retired          0.050087\n",
              "self-employed    0.034853\n",
              "entrepreneur     0.032860\n",
              "unemployed       0.028830\n",
              "housemaid        0.027413\n",
              "student          0.020770\n",
              "unknown          0.006377\n",
              "Name: job, dtype: float64"
            ]
          },
          "execution_count": 24,
          "metadata": {},
          "output_type": "execute_result"
        }
      ],
      "source": [
        "#Now, let’s analyze the job category by using plots. Since Job is a category, we will plot the bar plot.\n",
        "#Categorical Unordered Univariate Analysis:\n",
        "# Let's calculate the percentage of each job status category.\n",
        "data.job.value_counts(normalize=True)\n",
        "\n"
      ]
    },
    {
      "cell_type": "code",
      "execution_count": 25,
      "metadata": {
        "colab": {
          "base_uri": "https://localhost:8080/",
          "height": 265
        },
        "id": "YJ3urakT47dQ",
        "outputId": "840ef8e4-fb67-428c-bb3f-c8fb52e37217"
      },
      "outputs": [
        {
          "data": {
            "image/png": "[encoded data removed]",
            "text/plain": [
              "<Figure size 432x288 with 1 Axes>"
            ]
          },
          "metadata": {
            "needs_background": "light"
          },
          "output_type": "display_data"
        }
      ],
      "source": [
        "\n",
        "#plot the bar graph of percentage job categories\n",
        "data.job.value_counts(normalize=True).plot.barh()\n",
        "plt.show()"
      ]
    },
    {
      "cell_type": "code",
      "execution_count": 26,
      "metadata": {
        "colab": {
          "base_uri": "https://localhost:8080/"
        },
        "id": "MjYNioAU5OKC",
        "outputId": "3c0e6dd4-be6f-4b2e-f4ef-688c3625eafd"
      },
      "outputs": [
        {
          "data": {
            "text/plain": [
              "secondary    0.513275\n",
              "tertiary     0.294192\n",
              "primary      0.151436\n",
              "unknown      0.041097\n",
              "Name: education, dtype: float64"
            ]
          },
          "execution_count": 26,
          "metadata": {},
          "output_type": "execute_result"
        }
      ],
      "source": [
        "#Categorical Ordered Univariate Analysis:\n",
        "#Month: Jan, Feb, March……\n",
        "#Education: Primary, Secondary,……\n",
        "#Now, let’s analyze the Education Variable from the dataset. \n",
        "# let’s see how a Pie Chart looks like.\n",
        "#calculate the percentage of each education category.\n",
        "data.education.value_counts(normalize=True)\n",
        "\n",
        "\n",
        "\n"
      ]
    },
    {
      "cell_type": "code",
      "execution_count": 27,
      "metadata": {
        "colab": {
          "base_uri": "https://localhost:8080/",
          "height": 248
        },
        "id": "eTmVl3qv5m_2",
        "outputId": "20ef2fad-76c0-4a7c-9d74-100a5d7c3127"
      },
      "outputs": [
        {
          "data": {
            "image/png": "[encoded data removed]",
            "text/plain": [
              "<Figure size 432x288 with 1 Axes>"
            ]
          },
          "metadata": {},
          "output_type": "display_data"
        }
      ],
      "source": [
        "#plot the pie chart of education categories\n",
        "data.education.value_counts(normalize=True).plot.pie()\n",
        "plt.show()"
      ]
    },
    {
      "cell_type": "markdown",
      "metadata": {
        "id": "QZ_-AIog5zZ8"
      },
      "source": [
        "By the above analysis, we can infer that the data set has a large number of them belongs to secondary education after that tertiary and next primary. Also, a very small percentage of them have been unknown.\n",
        "This is how we analyze univariate categorical analysis. If the column or variable is of numerical then we’ll analyze by calculating its mean, median, std, etc. We can get those values by using the describe function."
      ]
    },
    {
      "cell_type": "code",
      "execution_count": 28,
      "metadata": {
        "colab": {
          "base_uri": "https://localhost:8080/"
        },
        "id": "2dm8hmTI51_U",
        "outputId": "3230b7bb-8ce3-4070-db39-6ce094b091d1"
      },
      "outputs": [
        {
          "data": {
            "text/plain": [
              "count     45161.000000\n",
              "mean      57004.849317\n",
              "std       32087.698810\n",
              "min           0.000000\n",
              "25%       20000.000000\n",
              "50%       60000.000000\n",
              "75%       70000.000000\n",
              "max      120000.000000\n",
              "Name: salary, dtype: float64"
            ]
          },
          "execution_count": 28,
          "metadata": {},
          "output_type": "execute_result"
        }
      ],
      "source": [
        "data.salary.describe()"
      ]
    },
    {
      "cell_type": "markdown",
      "metadata": {
        "id": "4RjUFeY657CB"
      },
      "source": [
        "Bivariate Analysis\n",
        "If we analyze data by taking two variables/columns into consideration from a dataset, it is known as Bivariate Analysis.\n",
        "a) Numeric-Numeric Analysis:\n",
        "Analyzing the two numeric variables from a dataset is known as numeric-numeric analysis. We can analyze it in three different ways.\n",
        "Scatter Plot\n",
        "Pair Plot\n",
        "Correlation Matrix\n",
        "**Scatter Plot**\n",
        "Let’s take three columns ‘Balance’, ‘Age’ and ‘Salary’ from our dataset and see what we can infer by plotting to scatter plot between salary balance and age balance"
      ]
    },
    {
      "cell_type": "code",
      "execution_count": 29,
      "metadata": {
        "colab": {
          "base_uri": "https://localhost:8080/",
          "height": 265
        },
        "id": "r3nbe2zT6Q8-",
        "outputId": "a8b2c2a5-a9c3-45d8-f72b-1ba79d2205a3"
      },
      "outputs": [
        {
          "data": {
            "image/png": "[encoded data removed]",
            "text/plain": [
              "<Figure size 432x288 with 1 Axes>"
            ]
          },
          "metadata": {
            "needs_background": "light"
          },
          "output_type": "display_data"
        }
      ],
      "source": [
        "#plot the scatter plot of balance and salary variable in data\n",
        "plt.scatter(data.salary,data.balance)\n",
        "plt.show()"
      ]
    },
    {
      "cell_type": "code",
      "execution_count": 30,
      "metadata": {
        "colab": {
          "base_uri": "https://localhost:8080/",
          "height": 279
        },
        "id": "BtkvWwJW6VHd",
        "outputId": "36c2e74d-3a0c-4bb4-d3b4-4391fbec94c3"
      },
      "outputs": [
        {
          "data": {
            "image/png": "[encoded data removed]",
            "text/plain": [
              "<Figure size 432x288 with 1 Axes>"
            ]
          },
          "metadata": {
            "needs_background": "light"
          },
          "output_type": "display_data"
        }
      ],
      "source": [
        "#plot the scatter plot of balance and age variable in data\n",
        "data.plot.scatter(x=\"age\",y=\"balance\")\n",
        "plt.show()"
      ]
    },
    {
      "cell_type": "markdown",
      "metadata": {
        "id": "9S2w0N0x6dF9"
      },
      "source": [
        "Pair Plot\n",
        "Now, let’s plot Pair Plots for the three columns we used in plotting Scatter plots. We’ll use the seaborn library for plotting Pair Plots."
      ]
    },
    {
      "cell_type": "code",
      "execution_count": 31,
      "metadata": {
        "colab": {
          "base_uri": "https://localhost:8080/",
          "height": 550
        },
        "id": "vkkqZfns6eWd",
        "outputId": "401aa54f-ce8b-4484-fb35-315903c9387c"
      },
      "outputs": [
        {
          "data": {
            "image/png": "[encoded data removed]",
            "text/plain": [
              "<Figure size 540x540 with 12 Axes>"
            ]
          },
          "metadata": {
            "needs_background": "light"
          },
          "output_type": "display_data"
        }
      ],
      "source": [
        "#plot the pair plot of salary, balance and age in data dataframe.\n",
        "sns.pairplot(data = data, vars=['salary','balance','age'])\n",
        "plt.show()"
      ]
    },
    {
      "cell_type": "markdown",
      "metadata": {
        "id": "Cvbd7M_V6oF-"
      },
      "source": [
        "Correlation Matrix\n",
        "Since we cannot use more than two variables as x-axis and y-axis in Scatter and Pair Plots, it is difficult to see the relation between three numerical variables in a single graph. In those cases, we’ll use the correlation matrix.\n"
      ]
    },
    {
      "cell_type": "code",
      "execution_count": 32,
      "metadata": {
        "colab": {
          "base_uri": "https://localhost:8080/",
          "height": 269
        },
        "id": "BMbAbkZk6qXq",
        "outputId": "45c4a341-508a-4375-883e-6a37687cf9b1"
      },
      "outputs": [
        {
          "data": {
            "image/png": "[encoded data removed]",
            "text/plain": [
              "<Figure size 432x288 with 2 Axes>"
            ]
          },
          "metadata": {
            "needs_background": "light"
          },
          "output_type": "display_data"
        }
      ],
      "source": [
        "# Creating a matrix using age, salry, balance as rows and columns\n",
        "data[['age','salary','balance']].corr()\n",
        "\n",
        "#plot the correlation matrix of salary, balance and age in data dataframe.\n",
        "sns.heatmap(data[['age','salary','balance']].corr(), annot=True, cmap = 'Reds')\n",
        "plt.show()"
      ]
    },
    {
      "cell_type": "markdown",
      "metadata": {
        "id": "I7o8fH7y7lXR"
      },
      "source": [
        "b) Numeric - Categorical Analysis\n",
        "Analyzing the one numeric variable and one categorical variable from a dataset is known as numeric-categorical analysis. We analyze them mainly using mean, median, and box plots.\n",
        "Let’s take salary and response columns from our dataset.\n",
        "First check for mean value using groupby"
      ]
    },
    {
      "cell_type": "code",
      "execution_count": 33,
      "metadata": {
        "colab": {
          "base_uri": "https://localhost:8080/"
        },
        "id": "Phvwk7Mm7om7",
        "outputId": "a6821d00-3475-41ab-fe0b-a301edb0b580"
      },
      "outputs": [
        {
          "data": {
            "text/plain": [
              "response\n",
              "no     56769.510482\n",
              "yes    58780.510880\n",
              "Name: salary, dtype: float64"
            ]
          },
          "execution_count": 33,
          "metadata": {},
          "output_type": "execute_result"
        }
      ],
      "source": [
        "#groupby the response to find the mean of the salary with response no & yes separately.\n",
        "data.groupby('response')['salary'].mean()"
      ]
    },
    {
      "cell_type": "code",
      "execution_count": 34,
      "metadata": {
        "colab": {
          "base_uri": "https://localhost:8080/"
        },
        "id": "C0ecyPtb7wzy",
        "outputId": "4b0e9c27-400d-4e4c-f064-0083decab67f"
      },
      "outputs": [
        {
          "data": {
            "text/plain": [
              "response\n",
              "no     60000.0\n",
              "yes    60000.0\n",
              "Name: salary, dtype: float64"
            ]
          },
          "execution_count": 34,
          "metadata": {},
          "output_type": "execute_result"
        }
      ],
      "source": [
        "#groupby the response to find the median of the salary with response no & yes separately.\n",
        "data.groupby('response')['salary'].median()"
      ]
    },
    {
      "cell_type": "markdown",
      "metadata": {
        "id": "6NQhZymE73Xj"
      },
      "source": [
        "By both mean and median we can say that the response of yes and no remains the same irrespective of the person’s salary. But, is it truly behaving like that, let’s plot the box plot for them and check the behavior."
      ]
    },
    {
      "cell_type": "code",
      "execution_count": 35,
      "metadata": {
        "colab": {
          "base_uri": "https://localhost:8080/",
          "height": 334
        },
        "id": "FYYGMCeE74oY",
        "outputId": "2157680e-44da-4548-a247-55ec612776cc"
      },
      "outputs": [
        {
          "name": "stderr",
          "output_type": "stream",
          "text": [
            "C:\\Users\\smita\\AppData\\Local\\Packages\\PythonSoftwareFoundation.Python.3.10_qbz5n2kfra8p0\\LocalCache\\local-packages\\Python310\\site-packages\\seaborn\\_decorators.py:36: FutureWarning: Pass the following variables as keyword args: x, y. From version 0.12, the only valid positional argument will be `data`, and passing other arguments without an explicit keyword will result in an error or misinterpretation.\n",
            "  warnings.warn(\n"
          ]
        },
        {
          "data": {
            "image/png": "[encoded data removed]",
            "text/plain": [
              "<Figure size 432x288 with 1 Axes>"
            ]
          },
          "metadata": {
            "needs_background": "light"
          },
          "output_type": "display_data"
        }
      ],
      "source": [
        "#plot the box plot of salary for yes & no responses.\n",
        "sns.boxplot(data.response, data.salary)\n",
        "plt.show()"
      ]
    },
    {
      "cell_type": "markdown",
      "metadata": {
        "id": "Bxg5089j8AGR"
      },
      "source": [
        "As we can see, when we plot the Box Plot, it paints a very different picture compared to mean and median. The IQR for customers who gave a positive response is on the higher salary side.\n",
        "This is how we analyze Numeric-Categorical variables, we use mean, median, and Box Plots to draw some sort of conclusions."
      ]
    },
    {
      "cell_type": "markdown",
      "metadata": {
        "id": "ofQzU6AT8C2N"
      },
      "source": [
        "c) Categorical — Categorical Analysis\n",
        "Since our target variable/column is the Response rate, we’ll see how the different categories like Education, Marital Status, etc., are associated with the Response column. So instead of ‘Yes’ and ‘No’ we will convert them into ‘1’ and ‘0’, by doing that we’ll get the “Response Rate”."
      ]
    },
    {
      "cell_type": "code",
      "execution_count": 36,
      "metadata": {
        "colab": {
          "base_uri": "https://localhost:8080/"
        },
        "id": "XCBwc_6t8A3m",
        "outputId": "9a6f82bc-d3b3-493a-8c42-baa702532fbe"
      },
      "outputs": [
        {
          "data": {
            "text/plain": [
              "0    39876\n",
              "1     5285\n",
              "Name: response_rate, dtype: int64"
            ]
          },
          "execution_count": 36,
          "metadata": {},
          "output_type": "execute_result"
        }
      ],
      "source": [
        "#create response_rate of numerical data type where response \"yes\"= 1, \"no\"= 0\n",
        "data['response_rate'] = np.where(data.response=='yes',1,0)\n",
        "data.response_rate.value_counts()"
      ]
    },
    {
      "cell_type": "code",
      "execution_count": 37,
      "metadata": {
        "colab": {
          "base_uri": "https://localhost:8080/",
          "height": 312
        },
        "id": "LqElFy-W8Mlx",
        "outputId": "898765b0-296c-4faa-fd37-97234f289932"
      },
      "outputs": [
        {
          "data": {
            "image/png": "[encoded data removed]",
            "text/plain": [
              "<Figure size 432x288 with 1 Axes>"
            ]
          },
          "metadata": {
            "needs_background": "light"
          },
          "output_type": "display_data"
        }
      ],
      "source": [
        "#plot the bar graph of marital status with average value of response_rate\n",
        "data.groupby('marital')['response_rate'].mean().plot.bar()\n",
        "plt.show()"
      ]
    },
    {
      "cell_type": "markdown",
      "metadata": {
        "id": "5cfjjnIa8wNz"
      },
      "source": [
        "By the above graph, we can infer that the positive response is more for Single status members in the data set. Similarly, we can plot the graphs for Loan vs Response rate, Housing Loans vs Response rate, etc."
      ]
    },
    {
      "cell_type": "markdown",
      "metadata": {
        "id": "MRkL_3VL8SWa"
      },
      "source": [
        "5. Multivariate Analysis\n",
        "If we analyze data by taking more than two variables/columns into consideration from a dataset, it is known as Multivariate Analysis.\n",
        "Let’s see how ‘Education’, ‘Marital’, and ‘Response_rate’ vary with each other.\n",
        "First, we’ll create a pivot table with the three columns and after that, we’ll create a heatmap."
      ]
    },
    {
      "cell_type": "code",
      "execution_count": 38,
      "metadata": {
        "colab": {
          "base_uri": "https://localhost:8080/"
        },
        "id": "84kATGPW8Pc7",
        "outputId": "8a028cf1-f634-4b77-aeda-85a06de426d0"
      },
      "outputs": [
        {
          "name": "stdout",
          "output_type": "stream",
          "text": [
            "marital    divorced   married    single\n",
            "education                              \n",
            "primary    0.138852  0.075601  0.106808\n",
            "secondary  0.103559  0.094650  0.129271\n",
            "tertiary   0.137415  0.129835  0.183737\n",
            "unknown    0.142012  0.122519  0.162879\n"
          ]
        }
      ],
      "source": [
        "result = pd.pivot_table(data=data, index='education', columns='marital',values='response_rate')\n",
        "print(result)"
      ]
    },
    {
      "cell_type": "code",
      "execution_count": 39,
      "metadata": {
        "colab": {
          "base_uri": "https://localhost:8080/",
          "height": 279
        },
        "id": "E-qjH7Cl8f3b",
        "outputId": "cd0d61dc-7b9d-4c18-f23f-9fb2d84c908c"
      },
      "outputs": [
        {
          "data": {
            "image/png": "[encoded data removed]",
            "text/plain": [
              "<Figure size 432x288 with 2 Axes>"
            ]
          },
          "metadata": {
            "needs_background": "light"
          },
          "output_type": "display_data"
        }
      ],
      "source": [
        "#create heat map of education vs marital vs response_rate\n",
        "sns.heatmap(result, annot=True, cmap = 'RdYlGn', center=0.117)\n",
        "plt.show()"
      ]
    },
    {
      "cell_type": "markdown",
      "metadata": {
        "id": "cDuvzlEA8n1y"
      },
      "source": [
        "Based on the Heatmap we can infer that the married people with primary education are less likely to respond positively for the survey and single people with tertiary education are most likely to respond positively to the survey.\n",
        "Similarly, we can plot the graphs for Job vs marital vs response, Education vs poutcome vs response, etc."
      ]
    }
  ],
  "metadata": {
    "colab": {
      "collapsed_sections": [],
      "name": "EXP_6_EDA_ smita shinde_20BCS4643.ipynb",
      "provenance": []
    },
    "kernelspec": {
      "display_name": "Python 3",
      "name": "python3"
    },
    "language_info": {
      "codemirror_mode": {
        "name": "ipython",
        "version": 3
      },
      "file_extension": ".py",
      "mimetype": "text/x-python",
      "name": "python",
      "nbconvert_exporter": "python",
      "pygments_lexer": "ipython3",
      "version": "3.10.4"
    }
  },
  "nbformat": 4,
  "nbformat_minor": 0
}
